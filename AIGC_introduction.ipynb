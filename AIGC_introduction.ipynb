{
  "nbformat": 4,
  "nbformat_minor": 0,
  "metadata": {
    "colab": {
      "provenance": []
    },
    "kernelspec": {
      "name": "python3",
      "display_name": "Python 3"
    },
    "language_info": {
      "name": "python"
    }
  },
  "cells": [
    {
      "cell_type": "markdown",
      "source": [
        "## awesome-AIGC\n",
        "AIGC是指AI Generated Content，即利用人工智能技术来生成内容。它被认为是继PGC、UGC之后的新型内容创作方式。\n",
        "\n",
        "https://github.com/xianyu110/awesome-AIGC.git"
      ],
      "metadata": {
        "id": "XdbDR76SRq9Y"
      }
    },
    {
      "cell_type": "code",
      "execution_count": null,
      "metadata": {
        "id": "cgxyIAijRlVo"
      },
      "outputs": [],
      "source": []
    }
  ]
}