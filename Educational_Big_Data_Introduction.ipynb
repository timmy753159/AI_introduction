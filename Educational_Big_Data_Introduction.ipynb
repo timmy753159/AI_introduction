{
  "nbformat": 4,
  "nbformat_minor": 0,
  "metadata": {
    "colab": {
      "provenance": []
    },
    "kernelspec": {
      "name": "python3",
      "display_name": "Python 3"
    },
    "language_info": {
      "name": "python"
    }
  },
  "cells": [
    {
      "cell_type": "markdown",
      "source": [
        "##大數據分析平台專案教育訓練課程\n",
        "\n",
        "https://github.com/ywchiu/fuboni.git"
      ],
      "metadata": {
        "id": "qZuQYYKN0Sb9"
      }
    }
  ]
}