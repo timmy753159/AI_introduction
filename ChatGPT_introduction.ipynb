{
  "nbformat": 4,
  "nbformat_minor": 0,
  "metadata": {
    "colab": {
      "provenance": []
    },
    "kernelspec": {
      "name": "python3",
      "display_name": "Python 3"
    },
    "language_info": {
      "name": "python"
    }
  },
  "cells": [
    {
      "cell_type": "markdown",
      "source": [
        "##ChatGPT 萬能工具箱\n",
        "提升 ChatGPT 網站的使用體驗，提供一些好用功能。像是自動從 URL 填入提示、在回應的地方出現自動提示按鈕、以及更多好用功能陸續推出。\n",
        "\n",
        "https://github.com/doggy8088/ChatGPTToolkitExtension.git"
      ],
      "metadata": {
        "id": "9JoccDn1ZTAc"
      }
    },
    {
      "cell_type": "markdown",
      "source": [
        "##Awesome ChatGPT 中文版\n",
        "\n",
        "https://github.com/Kamigami55/awesome-chatgpt.git"
      ],
      "metadata": {
        "id": "0pUWl9FHT089"
      }
    }
  ]
}